{
 "cells": [
  {
   "cell_type": "markdown",
   "id": "48c938f7",
   "metadata": {},
   "source": [
    "# UZOP PROJEKT\n",
    "## FAZA 2\n",
    "### Erik Greblo 0036537734"
   ]
  }
 ],
 "metadata": {
  "kernelspec": {
   "display_name": "Python 3 (ipykernel)",
   "language": "python",
   "name": "python3"
  },
  "language_info": {
   "codemirror_mode": {
    "name": "ipython",
    "version": 3
   },
   "file_extension": ".py",
   "mimetype": "text/x-python",
   "name": "python",
   "nbconvert_exporter": "python",
   "pygments_lexer": "ipython3",
   "version": "3.9.7"
  }
 },
 "nbformat": 4,
 "nbformat_minor": 5
}
